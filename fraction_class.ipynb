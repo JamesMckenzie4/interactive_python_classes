{
 "cells": [
  {
   "cell_type": "code",
   "execution_count": 26,
   "metadata": {
    "collapsed": true
   },
   "outputs": [],
   "source": [
    "class Fraction(object):\n",
    "    \"\"\"Class to reduce fractions:\n",
    "    Usage :- takes parameters top and bottom, representing the numerator and denominator of a fraction\n",
    "    has methods to return the string of the fraction and to return the reduced fraction.\"\"\"\n",
    "    \n",
    "    def __init__(self, top, bottom):\n",
    "        self.top = top\n",
    "        self.bottom = bottom\n",
    "        self.GCD = self.get_GCD(self.top, self.bottom)\n",
    "        \n",
    "    def get_top(self):\n",
    "        return top\n",
    "    \n",
    "    def get_bottom(self):\n",
    "        return bottom\n",
    "        \n",
    "    def get_fraction(self):\n",
    "        return str(self.top) + \"/\" + str(self.bottom) \n",
    "    \n",
    "    def get_GCD(self, top, bottom):\n",
    "        if top > bottom:\n",
    "            max_divisor = max([i for i in range(1, top) if top % i == 0 and bottom % i == 0])\n",
    "        else:\n",
    "            max_divisor = max([i for i in range(1, bottom) if top % i == 0 and bottom % i == 0])\n",
    "        return max_divisor\n",
    "    \n",
    "    def get_reduced_fraction(self):\n",
    "        return str(self.top / self.GCD) + \"/\" + str(self.bottom / self.GCD)\n",
    "        "
   ]
  },
  {
   "cell_type": "code",
   "execution_count": 28,
   "metadata": {
    "collapsed": false
   },
   "outputs": [],
   "source": [
    "frac_1 = Fraction(21, 72)"
   ]
  },
  {
   "cell_type": "code",
   "execution_count": 29,
   "metadata": {
    "collapsed": false
   },
   "outputs": [
    {
     "data": {
      "text/plain": [
       "3"
      ]
     },
     "execution_count": 29,
     "metadata": {},
     "output_type": "execute_result"
    }
   ],
   "source": [
    "frac_1.GCD"
   ]
  },
  {
   "cell_type": "code",
   "execution_count": 34,
   "metadata": {
    "collapsed": false
   },
   "outputs": [
    {
     "data": {
      "text/plain": [
       "'21/72'"
      ]
     },
     "execution_count": 34,
     "metadata": {},
     "output_type": "execute_result"
    }
   ],
   "source": [
    "frac_1.get_fraction()"
   ]
  },
  {
   "cell_type": "code",
   "execution_count": 35,
   "metadata": {
    "collapsed": false
   },
   "outputs": [
    {
     "data": {
      "text/plain": [
       "'7.0/24.0'"
      ]
     },
     "execution_count": 35,
     "metadata": {},
     "output_type": "execute_result"
    }
   ],
   "source": [
    "frac_1.get_reduced_fraction()"
   ]
  },
  {
   "cell_type": "code",
   "execution_count": null,
   "metadata": {
    "collapsed": true
   },
   "outputs": [],
   "source": []
  }
 ],
 "metadata": {
  "anaconda-cloud": {},
  "kernelspec": {
   "display_name": "Python [Root]",
   "language": "python",
   "name": "Python [Root]"
  },
  "language_info": {
   "codemirror_mode": {
    "name": "ipython",
    "version": 3
   },
   "file_extension": ".py",
   "mimetype": "text/x-python",
   "name": "python",
   "nbconvert_exporter": "python",
   "pygments_lexer": "ipython3",
   "version": "3.5.2"
  }
 },
 "nbformat": 4,
 "nbformat_minor": 0
}
