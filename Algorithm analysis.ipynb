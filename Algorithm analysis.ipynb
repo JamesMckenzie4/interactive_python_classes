{
 "cells": [
  {
   "cell_type": "markdown",
   "metadata": {},
   "source": [
    "### Profiling two similar algorithms using the time module"
   ]
  },
  {
   "cell_type": "code",
   "execution_count": 4,
   "metadata": {
    "collapsed": false
   },
   "outputs": [],
   "source": [
    "import time\n",
    "\n",
    "def sum_of_nums(n):\n",
    "\n",
    "    start = time.time()\n",
    "    the_sum = 0\n",
    "    for i in range(1,n+1):\n",
    "        the_sum = the_sum + i\n",
    "    end = time.time()\n",
    "    \n",
    "    return the_sum,end-start\n",
    "\n",
    "\n"
   ]
  },
  {
   "cell_type": "code",
   "execution_count": 15,
   "metadata": {
    "collapsed": false
   },
   "outputs": [
    {
     "name": "stdout",
     "output_type": "stream",
     "text": [
      "Sum is 500000500000 required 0.47802734 seconds\n",
      "Sum is 500000500000 required 0.45802617 seconds\n",
      "Sum is 500000500000 required 0.30301738 seconds\n",
      "Sum is 500000500000 required 0.30001712 seconds\n",
      "Sum is 500000500000 required 0.23601365 seconds\n"
     ]
    }
   ],
   "source": [
    "for i in range(5):\n",
    "       print(\"Sum is %d required %10.8f seconds\"%sum_of_nums(1000000))"
   ]
  },
  {
   "cell_type": "code",
   "execution_count": null,
   "metadata": {
    "collapsed": true
   },
   "outputs": [],
   "source": []
  }
 ],
 "metadata": {
  "anaconda-cloud": {},
  "kernelspec": {
   "display_name": "Python [Root]",
   "language": "python",
   "name": "Python [Root]"
  },
  "language_info": {
   "codemirror_mode": {
    "name": "ipython",
    "version": 3
   },
   "file_extension": ".py",
   "mimetype": "text/x-python",
   "name": "python",
   "nbconvert_exporter": "python",
   "pygments_lexer": "ipython3",
   "version": "3.5.2"
  }
 },
 "nbformat": 4,
 "nbformat_minor": 0
}
